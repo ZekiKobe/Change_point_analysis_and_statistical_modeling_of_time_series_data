{
 "cells": [
  {
   "cell_type": "markdown",
   "id": "ab60153c",
   "metadata": {},
   "source": [
    "### Visualization"
   ]
  },
  {
   "cell_type": "code",
   "execution_count": null,
   "id": "64838071",
   "metadata": {
    "vscode": {
     "languageId": "plaintext"
    }
   },
   "outputs": [],
   "source": [
    "import pandas as pd\n",
    "import matplotlib.pyplot as plt\n",
    "import matplotlib.dates as mdates\n",
    "\n",
    "def plot_change_points(df, change_dates, events_file=None):\n",
    "    plt.figure(figsize=(16, 8))\n",
    "    \n",
    "    # Main price series\n",
    "    plt.plot(df['Date'], df['Price'], label='Brent Oil Price', alpha=0.7)\n",
    "    \n",
    "    # Change points\n",
    "    for cp in change_dates:\n",
    "        plt.axvline(cp, color='red', linestyle='--', alpha=0.6, label='Change Point')\n",
    "    \n",
    "    # Events annotation\n",
    "    if events_file:\n",
    "        events = pd.read_csv(events_file, parse_dates=['Date'])\n",
    "        for _, row in events.iterrows():\n",
    "            plt.annotate(row['Event'], \n",
    "                        xy=(row['Date'], df.loc[df['Date'] == row['Date'], 'Price'].values[0]),\n",
    "                        xytext=(10, 10), \n",
    "                        textcoords='offset points',\n",
    "                        arrowprops=dict(arrowstyle='->', color='green'))\n",
    "    \n",
    "    # Formatting\n",
    "    plt.title('Brent Oil Prices with Detected Change Points')\n",
    "    plt.xlabel('Date')\n",
    "    plt.ylabel('Price (USD)')\n",
    "    plt.gca().xaxis.set_major_locator(mdates.YearLocator(5))\n",
    "    plt.gca().xaxis.set_major_formatter(mdates.DateFormatter('%Y'))\n",
    "    plt.grid(True)\n",
    "    plt.legend()\n",
    "    plt.tight_layout()\n",
    "    plt.savefig('../outputs/figures/final_change_points.png')\n",
    "    plt.close()\n",
    "\n",
    "if __name__ == \"__main__\":\n",
    "    df = pd.read_csv('../data/processed/cleaned_oil_prices.csv', parse_dates=['Date'])\n",
    "    change_dates = pd.to_datetime(['2008-07-15', '2014-11-27', '2020-04-20'])  # Example from model\n",
    "    plot_change_points(df, change_dates, '../data/processed/events_annotated.csv')"
   ]
  }
 ],
 "metadata": {
  "language_info": {
   "name": "python"
  }
 },
 "nbformat": 4,
 "nbformat_minor": 5
}
